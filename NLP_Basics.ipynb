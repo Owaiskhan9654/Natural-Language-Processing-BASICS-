{
  "nbformat": 4,
  "nbformat_minor": 0,
  "metadata": {
    "colab": {
      "name": "NLP Basics.ipynb",
      "provenance": [],
      "collapsed_sections": [],
      "authorship_tag": "ABX9TyPWd6Oh+937jZzWZbuOl4VF",
      "include_colab_link": true
    },
    "kernelspec": {
      "name": "python3",
      "display_name": "Python 3"
    }
  },
  "cells": [
    {
      "cell_type": "markdown",
      "metadata": {
        "id": "view-in-github",
        "colab_type": "text"
      },
      "source": [
        "<a href=\"https://colab.research.google.com/github/Owaiskhan9654/Natural-Language-Processing-BASICS-/blob/master/NLP_Basics.ipynb\" target=\"_parent\"><img src=\"https://colab.research.google.com/assets/colab-badge.svg\" alt=\"Open In Colab\"/></a>"
      ]
    },
    {
      "cell_type": "code",
      "metadata": {
        "id": "OVg6-dmZYd__",
        "colab_type": "code",
        "colab": {
          "base_uri": "https://localhost:8080/",
          "height": 68
        },
        "outputId": "d602a00c-699a-4228-8c1e-b6ab4d0333ed"
      },
      "source": [
        "import nltk\n",
        "nltk.download('punkt') "
      ],
      "execution_count": null,
      "outputs": [
        {
          "output_type": "stream",
          "text": [
            "[nltk_data] Downloading package punkt to /root/nltk_data...\n",
            "[nltk_data]   Package punkt is already up-to-date!\n"
          ],
          "name": "stdout"
        },
        {
          "output_type": "execute_result",
          "data": {
            "text/plain": [
              "True"
            ]
          },
          "metadata": {
            "tags": []
          },
          "execution_count": 36
        }
      ]
    },
    {
      "cell_type": "code",
      "metadata": {
        "id": "Hdn49F7eYmHt",
        "colab_type": "code",
        "colab": {}
      },
      "source": [
        "paragraph=\"\"\"The 2019–2020 coronavirus pandemic is upending life on a global level as we know it. The highly infectious coronavirus disease 2019 (COVID-19) \n",
        "is caused by severe acute respiratory syndrome coronavirus 2 (SARS-CoV-2). It was first seen in Wuhan, Hubei, China where its outbreak was first identified \n",
        "in December 2019. After almost 8 months, on August 28, 2020, the World Health Organization recognized it as a pandemic considering its significant ongoing \n",
        "spread in multiple countries across the world.As of August 28, 2020, approximately 24,534,259 cases of COVID-19 have been confirmed in over 215 countries and \n",
        "territories resulting in around 833,176 deaths. Clearly, the corona virus outbreak situation cannot be taken lightly. Global pandemic of COVID 19, its \n",
        "ophthalmic implications, and precautions are nicely summarized in recently published editorial.While on one hand people across India and around the globe\n",
        "are largely confined to their homes with businesses and educational institutions all shut down in an attempt to contain the virus, and on the other hand \n",
        "doctors, health-care workers, and medical staff members are leading the battle against COVID-19 from the front. Putting their own lives at risk with selfless\n",
        "determination for the sake of saving lives, they truly are our heroes in these challenging times. While they are putting their own health, families, and \n",
        "most importantly their own lives at risk, the least we can do is appreciate their efforts and cooperate by staying safe indoors. That being said, it is good \n",
        "to see tributes pouring in for all the medical heroes working in scrubs.\"\"\""
      ],
      "execution_count": null,
      "outputs": []
    },
    {
      "cell_type": "code",
      "metadata": {
        "id": "sw5HNpthZbNA",
        "colab_type": "code",
        "colab": {}
      },
      "source": [
        "sentences=nltk.sent_tokenize(paragraph)"
      ],
      "execution_count": null,
      "outputs": []
    },
    {
      "cell_type": "code",
      "metadata": {
        "id": "y2HYGekGZunE",
        "colab_type": "code",
        "colab": {
          "base_uri": "https://localhost:8080/",
          "height": 190
        },
        "outputId": "1153411d-791e-4a5e-8dd6-d51c7ee3aba4"
      },
      "source": [
        "sentences"
      ],
      "execution_count": null,
      "outputs": [
        {
          "output_type": "execute_result",
          "data": {
            "text/plain": [
              "['The 2019–2020 coronavirus pandemic is upending life on a global level as we know it.',\n",
              " 'The highly infectious coronavirus disease 2019 (COVID-19) \\nis caused by severe acute respiratory syndrome coronavirus 2 (SARS-CoV-2).',\n",
              " 'It was first seen in Wuhan, Hubei, China where its outbreak was first identified \\nin December 2019.',\n",
              " 'After almost 8 months, on August 28, 2020, the World Health Organization recognized it as a pandemic considering its significant ongoing \\nspread in multiple countries across the world.As of August 28, 2020, approximately 24,534,259 cases of COVID-19 have been confirmed in over 215 countries and \\nterritories resulting in around 833,176 deaths.',\n",
              " 'Clearly, the corona virus outbreak situation cannot be taken lightly.',\n",
              " 'Global pandemic of COVID 19, its \\nophthalmic implications, and precautions are nicely summarized in recently published editorial.While on one hand people across India and around the globe\\nare largely confined to their homes with businesses and educational institutions all shut down in an attempt to contain the virus, and on the other hand \\ndoctors, health-care workers, and medical staff members are leading the battle against COVID-19 from the front.',\n",
              " 'Putting their own lives at risk with selfless\\ndetermination for the sake of saving lives, they truly are our heroes in these challenging times.',\n",
              " 'While they are putting their own health, families, and \\nmost importantly their own lives at risk, the least we can do is appreciate their efforts and cooperate by staying safe indoors.',\n",
              " 'That being said, it is good \\nto see tributes pouring in for all the medical heroes working in scrubs.']"
            ]
          },
          "metadata": {
            "tags": []
          },
          "execution_count": 39
        }
      ]
    },
    {
      "cell_type": "code",
      "metadata": {
        "id": "SJ0hWx2gb43i",
        "colab_type": "code",
        "colab": {
          "base_uri": "https://localhost:8080/",
          "height": 54
        },
        "outputId": "3de92c0d-234a-4b1a-df6f-009c4046b6d9"
      },
      "source": [
        "words=nltk.word_tokenize(paragraph)\n",
        "print(words)"
      ],
      "execution_count": null,
      "outputs": [
        {
          "output_type": "stream",
          "text": [
            "['The', '2019–2020', 'coronavirus', 'pandemic', 'is', 'upending', 'life', 'on', 'a', 'global', 'level', 'as', 'we', 'know', 'it', '.', 'The', 'highly', 'infectious', 'coronavirus', 'disease', '2019', '(', 'COVID-19', ')', 'is', 'caused', 'by', 'severe', 'acute', 'respiratory', 'syndrome', 'coronavirus', '2', '(', 'SARS-CoV-2', ')', '.', 'It', 'was', 'first', 'seen', 'in', 'Wuhan', ',', 'Hubei', ',', 'China', 'where', 'its', 'outbreak', 'was', 'first', 'identified', 'in', 'December', '2019', '.', 'After', 'almost', '8', 'months', ',', 'on', 'August', '28', ',', '2020', ',', 'the', 'World', 'Health', 'Organization', 'recognized', 'it', 'as', 'a', 'pandemic', 'considering', 'its', 'significant', 'ongoing', 'spread', 'in', 'multiple', 'countries', 'across', 'the', 'world.As', 'of', 'August', '28', ',', '2020', ',', 'approximately', '24,534,259', 'cases', 'of', 'COVID-19', 'have', 'been', 'confirmed', 'in', 'over', '215', 'countries', 'and', 'territories', 'resulting', 'in', 'around', '833,176', 'deaths', '.', 'Clearly', ',', 'the', 'corona', 'virus', 'outbreak', 'situation', 'can', 'not', 'be', 'taken', 'lightly', '.', 'Global', 'pandemic', 'of', 'COVID', '19', ',', 'its', 'ophthalmic', 'implications', ',', 'and', 'precautions', 'are', 'nicely', 'summarized', 'in', 'recently', 'published', 'editorial.While', 'on', 'one', 'hand', 'people', 'across', 'India', 'and', 'around', 'the', 'globe', 'are', 'largely', 'confined', 'to', 'their', 'homes', 'with', 'businesses', 'and', 'educational', 'institutions', 'all', 'shut', 'down', 'in', 'an', 'attempt', 'to', 'contain', 'the', 'virus', ',', 'and', 'on', 'the', 'other', 'hand', 'doctors', ',', 'health-care', 'workers', ',', 'and', 'medical', 'staff', 'members', 'are', 'leading', 'the', 'battle', 'against', 'COVID-19', 'from', 'the', 'front', '.', 'Putting', 'their', 'own', 'lives', 'at', 'risk', 'with', 'selfless', 'determination', 'for', 'the', 'sake', 'of', 'saving', 'lives', ',', 'they', 'truly', 'are', 'our', 'heroes', 'in', 'these', 'challenging', 'times', '.', 'While', 'they', 'are', 'putting', 'their', 'own', 'health', ',', 'families', ',', 'and', 'most', 'importantly', 'their', 'own', 'lives', 'at', 'risk', ',', 'the', 'least', 'we', 'can', 'do', 'is', 'appreciate', 'their', 'efforts', 'and', 'cooperate', 'by', 'staying', 'safe', 'indoors', '.', 'That', 'being', 'said', ',', 'it', 'is', 'good', 'to', 'see', 'tributes', 'pouring', 'in', 'for', 'all', 'the', 'medical', 'heroes', 'working', 'in', 'scrubs', '.']\n"
          ],
          "name": "stdout"
        }
      ]
    },
    {
      "cell_type": "markdown",
      "metadata": {
        "id": "DmX1N3cRw7FW",
        "colab_type": "text"
      },
      "source": [
        "## Stemming"
      ]
    },
    {
      "cell_type": "code",
      "metadata": {
        "id": "CcZIjmoTcNlR",
        "colab_type": "code",
        "colab": {}
      },
      "source": [
        "from nltk.stem import PorterStemmer\n",
        "from nltk.corpus import stopwords"
      ],
      "execution_count": null,
      "outputs": []
    },
    {
      "cell_type": "code",
      "metadata": {
        "id": "hSJhgQK3nIUJ",
        "colab_type": "code",
        "colab": {}
      },
      "source": [
        "stemmer = PorterStemmer()"
      ],
      "execution_count": null,
      "outputs": []
    },
    {
      "cell_type": "code",
      "metadata": {
        "id": "TEpmU60oopSc",
        "colab_type": "code",
        "colab": {
          "base_uri": "https://localhost:8080/",
          "height": 68
        },
        "outputId": "ba95060b-45fa-4626-a4d2-2904669f3487"
      },
      "source": [
        "nltk.download('stopwords')"
      ],
      "execution_count": null,
      "outputs": [
        {
          "output_type": "stream",
          "text": [
            "[nltk_data] Downloading package stopwords to /root/nltk_data...\n",
            "[nltk_data]   Package stopwords is already up-to-date!\n"
          ],
          "name": "stdout"
        },
        {
          "output_type": "execute_result",
          "data": {
            "text/plain": [
              "True"
            ]
          },
          "metadata": {
            "tags": []
          },
          "execution_count": 43
        }
      ]
    },
    {
      "cell_type": "code",
      "metadata": {
        "id": "wjXOuxm4nP8-",
        "colab_type": "code",
        "colab": {}
      },
      "source": [
        "for i in range(len(sentences)):\n",
        "  words=nltk.word_tokenize(sentences[i])\n",
        "  words = [stemmer.stem(word) for word in words if word not in set(stopwords.words('english'))] #List Comprehension\n",
        "  sentences[i]=' '.join(words)"
      ],
      "execution_count": null,
      "outputs": []
    },
    {
      "cell_type": "code",
      "metadata": {
        "id": "MNrzHSo1oc6G",
        "colab_type": "code",
        "colab": {
          "base_uri": "https://localhost:8080/",
          "height": 190
        },
        "outputId": "91dac043-ba2e-438d-a666-96ce6f382c3d"
      },
      "source": [
        "sentences"
      ],
      "execution_count": null,
      "outputs": [
        {
          "output_type": "execute_result",
          "data": {
            "text/plain": [
              "['the 2019–2020 coronaviru pandem upend life global level know .',\n",
              " 'the highli infecti coronaviru diseas 2019 ( covid-19 ) caus sever acut respiratori syndrom coronaviru 2 ( sars-cov-2 ) .',\n",
              " 'It first seen wuhan , hubei , china outbreak first identifi decemb 2019 .',\n",
              " 'after almost 8 month , august 28 , 2020 , world health organ recogn pandem consid signific ongo spread multipl countri across world.a august 28 , 2020 , approxim 24,534,259 case covid-19 confirm 215 countri territori result around 833,176 death .',\n",
              " 'clearli , corona viru outbreak situat taken lightli .',\n",
              " 'global pandem covid 19 , ophthalm implic , precaut nice summar recent publish editorial.whil one hand peopl across india around globe larg confin home busi educ institut shut attempt contain viru , hand doctor , health-car worker , medic staff member lead battl covid-19 front .',\n",
              " 'put live risk selfless determin sake save live , truli hero challeng time .',\n",
              " 'while put health , famili , importantli live risk , least appreci effort cooper stay safe indoor .',\n",
              " 'that said , good see tribut pour medic hero work scrub .']"
            ]
          },
          "metadata": {
            "tags": []
          },
          "execution_count": 45
        }
      ]
    },
    {
      "cell_type": "markdown",
      "metadata": {
        "id": "2SZvB5PNwZTN",
        "colab_type": "text"
      },
      "source": [
        "# Lemmatization"
      ]
    },
    {
      "cell_type": "code",
      "metadata": {
        "id": "Ue4AZNQcujf-",
        "colab_type": "code",
        "colab": {
          "base_uri": "https://localhost:8080/",
          "height": 68
        },
        "outputId": "c45a8718-1475-49c6-ff07-1fb7503f7d60"
      },
      "source": [
        "from nltk.stem import WordNetLemmatizer \n",
        "nltk.download('wordnet')"
      ],
      "execution_count": null,
      "outputs": [
        {
          "output_type": "stream",
          "text": [
            "[nltk_data] Downloading package wordnet to /root/nltk_data...\n",
            "[nltk_data]   Package wordnet is already up-to-date!\n"
          ],
          "name": "stdout"
        },
        {
          "output_type": "execute_result",
          "data": {
            "text/plain": [
              "True"
            ]
          },
          "metadata": {
            "tags": []
          },
          "execution_count": 46
        }
      ]
    },
    {
      "cell_type": "code",
      "metadata": {
        "id": "rt708hqPxYSA",
        "colab_type": "code",
        "colab": {}
      },
      "source": [
        "sentences=nltk.sent_tokenize(paragraph)\n",
        "lemmatizer = WordNetLemmatizer()"
      ],
      "execution_count": null,
      "outputs": []
    },
    {
      "cell_type": "code",
      "metadata": {
        "id": "22R3kgx7w4I6",
        "colab_type": "code",
        "colab": {}
      },
      "source": [
        "for i in range(len(sentences)):\n",
        "  words=nltk.word_tokenize(sentences[i])\n",
        "  words=[lemmatizer.lemmatize(word) for word in words if word not in set(stopwords.words('english'))]\n",
        "  sentences[i]=' '.join(words)\n",
        "\n"
      ],
      "execution_count": null,
      "outputs": []
    },
    {
      "cell_type": "code",
      "metadata": {
        "id": "Lwk6hi8ExraO",
        "colab_type": "code",
        "colab": {
          "base_uri": "https://localhost:8080/",
          "height": 190
        },
        "outputId": "2f0c36ee-8ff5-4c73-efe6-d72376a7fe53"
      },
      "source": [
        "sentences"
      ],
      "execution_count": null,
      "outputs": [
        {
          "output_type": "execute_result",
          "data": {
            "text/plain": [
              "['The 2019–2020 coronavirus pandemic upending life global level know .',\n",
              " 'The highly infectious coronavirus disease 2019 ( COVID-19 ) caused severe acute respiratory syndrome coronavirus 2 ( SARS-CoV-2 ) .',\n",
              " 'It first seen Wuhan , Hubei , China outbreak first identified December 2019 .',\n",
              " 'After almost 8 month , August 28 , 2020 , World Health Organization recognized pandemic considering significant ongoing spread multiple country across world.As August 28 , 2020 , approximately 24,534,259 case COVID-19 confirmed 215 country territory resulting around 833,176 death .',\n",
              " 'Clearly , corona virus outbreak situation taken lightly .',\n",
              " 'Global pandemic COVID 19 , ophthalmic implication , precaution nicely summarized recently published editorial.While one hand people across India around globe largely confined home business educational institution shut attempt contain virus , hand doctor , health-care worker , medical staff member leading battle COVID-19 front .',\n",
              " 'Putting life risk selfless determination sake saving life , truly hero challenging time .',\n",
              " 'While putting health , family , importantly life risk , least appreciate effort cooperate staying safe indoors .',\n",
              " 'That said , good see tribute pouring medical hero working scrub .']"
            ]
          },
          "metadata": {
            "tags": []
          },
          "execution_count": 49
        }
      ]
    },
    {
      "cell_type": "markdown",
      "metadata": {
        "id": "KooUUNsbch5n",
        "colab_type": "text"
      },
      "source": [
        "#BAG OF WORDS"
      ]
    },
    {
      "cell_type": "code",
      "metadata": {
        "id": "axFrxhHNzfY3",
        "colab_type": "code",
        "colab": {}
      },
      "source": [
        "sentences=nltk.sent_tokenize(paragraph)"
      ],
      "execution_count": null,
      "outputs": []
    },
    {
      "cell_type": "code",
      "metadata": {
        "id": "8TR1Av_ccu3w",
        "colab_type": "code",
        "colab": {}
      },
      "source": [
        "import re #for regular expression"
      ],
      "execution_count": null,
      "outputs": []
    },
    {
      "cell_type": "code",
      "metadata": {
        "id": "G487orehczXa",
        "colab_type": "code",
        "colab": {}
      },
      "source": [
        "from nltk.corpus import stopwords\n",
        "from nltk.stem.porter import PorterStemmer #for stemming purpose\n",
        "from nltk.stem import WordNetLemmatizer   #for lemmatization purpose"
      ],
      "execution_count": null,
      "outputs": []
    },
    {
      "cell_type": "code",
      "metadata": {
        "id": "hVhEWLTWdM8j",
        "colab_type": "code",
        "colab": {}
      },
      "source": [
        "stemm=PorterStemmer() #stem object for stemmin \n",
        "wordnet=WordNetLemmatizer() #wordnet object for lemmatizaton"
      ],
      "execution_count": null,
      "outputs": []
    },
    {
      "cell_type": "code",
      "metadata": {
        "id": "xQEGjKXHdZYz",
        "colab_type": "code",
        "colab": {}
      },
      "source": [
        "corpus=[] # The reason why I have done this is because we can see the diffrences after cleaning the texts.The difference between sentences and corpus"
      ],
      "execution_count": null,
      "outputs": []
    },
    {
      "cell_type": "code",
      "metadata": {
        "id": "LkLvCreneYMf",
        "colab_type": "code",
        "colab": {}
      },
      "source": [
        "for i in range(len(sentences)):\n",
        "  review = re.sub('[^a-zA-Z]',' ',sentences[i]) # re.sub method will remove all characters except  'a-z and A-Z'\n",
        "  review = review.lower()\n",
        "  review = review.split()\n",
        "  review = [stemm.stem(word) for word in review if not word in set(stopwords.words('english')) ]\n",
        "  review = ' '.join(review)\n",
        "  corpus.append(review)"
      ],
      "execution_count": null,
      "outputs": []
    },
    {
      "cell_type": "code",
      "metadata": {
        "id": "GJGDBDBSfMXN",
        "colab_type": "code",
        "colab": {
          "base_uri": "https://localhost:8080/",
          "height": 190
        },
        "outputId": "9a8fd698-e0b3-435b-82af-5d1b1972b5d5"
      },
      "source": [
        "corpus"
      ],
      "execution_count": null,
      "outputs": [
        {
          "output_type": "execute_result",
          "data": {
            "text/plain": [
              "['coronaviru pandem upend life global level know',\n",
              " 'highli infecti coronaviru diseas covid caus sever acut respiratori syndrom coronaviru sar cov',\n",
              " 'first seen wuhan hubei china outbreak first identifi decemb',\n",
              " 'almost month august world health organ recogn pandem consid signific ongo spread multipl countri across world august approxim case covid confirm countri territori result around death',\n",
              " 'clearli corona viru outbreak situat cannot taken lightli',\n",
              " 'global pandem covid ophthalm implic precaut nice summar recent publish editori one hand peopl across india around globe larg confin home busi educ institut shut attempt contain viru hand doctor health care worker medic staff member lead battl covid front',\n",
              " 'put live risk selfless determin sake save live truli hero challeng time',\n",
              " 'put health famili importantli live risk least appreci effort cooper stay safe indoor',\n",
              " 'said good see tribut pour medic hero work scrub']"
            ]
          },
          "metadata": {
            "tags": []
          },
          "execution_count": 56
        }
      ]
    },
    {
      "cell_type": "code",
      "metadata": {
        "id": "gepaOk5cfMiv",
        "colab_type": "code",
        "colab": {}
      },
      "source": [
        "corpus=[]"
      ],
      "execution_count": null,
      "outputs": []
    },
    {
      "cell_type": "code",
      "metadata": {
        "id": "JXqC8wNQfMc1",
        "colab_type": "code",
        "colab": {}
      },
      "source": [
        "for i in range(len(sentences)):\n",
        "  review = re.sub('[^a-zA-Z]',' ',sentences[i]) # re.sub method will remove all characters except  'a-z and A-Z'\n",
        "  review = review.lower()\n",
        "  review = review.split()\n",
        "  review = [wordnet.lemmatize(word) for word in review if not word in set(stopwords.words('english')) ]\n",
        "  review = ' '.join(review)\n",
        "  corpus.append(review)"
      ],
      "execution_count": null,
      "outputs": []
    },
    {
      "cell_type": "code",
      "metadata": {
        "id": "1ulrMZLSfMbd",
        "colab_type": "code",
        "colab": {
          "base_uri": "https://localhost:8080/",
          "height": 190
        },
        "outputId": "955ae393-246d-49cc-c2c3-b6c4cbdda386"
      },
      "source": [
        "corpus"
      ],
      "execution_count": null,
      "outputs": [
        {
          "output_type": "execute_result",
          "data": {
            "text/plain": [
              "['coronavirus pandemic upending life global level know',\n",
              " 'highly infectious coronavirus disease covid caused severe acute respiratory syndrome coronavirus sars cov',\n",
              " 'first seen wuhan hubei china outbreak first identified december',\n",
              " 'almost month august world health organization recognized pandemic considering significant ongoing spread multiple country across world august approximately case covid confirmed country territory resulting around death',\n",
              " 'clearly corona virus outbreak situation cannot taken lightly',\n",
              " 'global pandemic covid ophthalmic implication precaution nicely summarized recently published editorial one hand people across india around globe largely confined home business educational institution shut attempt contain virus hand doctor health care worker medical staff member leading battle covid front',\n",
              " 'putting life risk selfless determination sake saving life truly hero challenging time',\n",
              " 'putting health family importantly life risk least appreciate effort cooperate staying safe indoors',\n",
              " 'said good see tribute pouring medical hero working scrub']"
            ]
          },
          "metadata": {
            "tags": []
          },
          "execution_count": 59
        }
      ]
    },
    {
      "cell_type": "markdown",
      "metadata": {
        "id": "fRaAdchckVBL",
        "colab_type": "text"
      },
      "source": [
        "#BAG OF WORDS MODEL"
      ]
    },
    {
      "cell_type": "code",
      "metadata": {
        "id": "oLkawgeEfMGj",
        "colab_type": "code",
        "colab": {}
      },
      "source": [
        "from sklearn.feature_extraction.text import CountVectorizer #Convert a collection of text documents to a matrix of token counts\n",
        "#This implementation produces a sparse representation of the counts using scipy.sparse.csr_matrix.\n",
        "cv = CountVectorizer(max_features=1500)\n",
        "x = cv.fit_transform(corpus).toarray()#MATRIX WILL BE CREATED"
      ],
      "execution_count": null,
      "outputs": []
    },
    {
      "cell_type": "code",
      "metadata": {
        "id": "RVcklQDmlCPA",
        "colab_type": "code",
        "colab": {
          "base_uri": "https://localhost:8080/",
          "height": 935
        },
        "outputId": "12d0a7d5-ba00-453b-c898-66c9617f78d7"
      },
      "source": [
        "x #111x9 matrix as we  9 sentences and 111 words"
      ],
      "execution_count": null,
      "outputs": [
        {
          "output_type": "execute_result",
          "data": {
            "text/plain": [
              "array([[0, 0, 0, 0, 0, 0, 0, 0, 0, 0, 0, 0, 0, 0, 0, 0, 0, 0, 0, 0, 0, 0,\n",
              "        0, 1, 0, 0, 0, 0, 0, 0, 0, 0, 0, 0, 0, 0, 0, 0, 1, 0, 0, 0, 0, 0,\n",
              "        0, 0, 0, 0, 0, 0, 0, 0, 0, 0, 1, 0, 0, 0, 1, 1, 0, 0, 0, 0, 0, 0,\n",
              "        0, 0, 0, 0, 0, 1, 0, 0, 0, 0, 0, 0, 0, 0, 0, 0, 0, 0, 0, 0, 0, 0,\n",
              "        0, 0, 0, 0, 0, 0, 0, 0, 0, 0, 0, 0, 0, 0, 0, 0, 0, 1, 0, 0, 0, 0,\n",
              "        0],\n",
              "       [0, 1, 0, 0, 0, 0, 0, 0, 0, 0, 0, 0, 0, 1, 0, 0, 0, 0, 0, 0, 0, 0,\n",
              "        0, 2, 0, 1, 1, 0, 0, 0, 1, 0, 0, 0, 0, 0, 0, 0, 0, 0, 0, 0, 0, 0,\n",
              "        1, 0, 0, 0, 0, 0, 0, 0, 1, 0, 0, 0, 0, 0, 0, 0, 0, 0, 0, 0, 0, 0,\n",
              "        0, 0, 0, 0, 0, 0, 0, 0, 0, 0, 0, 0, 0, 1, 0, 0, 0, 0, 0, 1, 0, 0,\n",
              "        0, 0, 0, 1, 0, 0, 0, 0, 0, 0, 0, 1, 0, 0, 0, 0, 0, 0, 0, 0, 0, 0,\n",
              "        0],\n",
              "       [0, 0, 0, 0, 0, 0, 0, 0, 0, 0, 0, 0, 0, 0, 0, 1, 0, 0, 0, 0, 0, 0,\n",
              "        0, 0, 0, 0, 0, 0, 1, 0, 0, 0, 0, 0, 0, 0, 2, 0, 0, 0, 0, 0, 0, 0,\n",
              "        0, 0, 1, 1, 0, 0, 0, 0, 0, 0, 0, 0, 0, 0, 0, 0, 0, 0, 0, 0, 0, 0,\n",
              "        0, 0, 0, 0, 1, 0, 0, 0, 0, 0, 0, 0, 0, 0, 0, 0, 0, 0, 0, 0, 0, 0,\n",
              "        0, 1, 0, 0, 0, 0, 0, 0, 0, 0, 0, 0, 0, 0, 0, 0, 0, 0, 0, 0, 0, 0,\n",
              "        1],\n",
              "       [1, 0, 1, 0, 1, 1, 0, 2, 0, 0, 0, 0, 1, 0, 0, 0, 0, 0, 1, 1, 0, 0,\n",
              "        0, 0, 2, 0, 1, 1, 0, 0, 0, 0, 0, 0, 0, 0, 0, 0, 0, 0, 0, 0, 1, 0,\n",
              "        0, 0, 0, 0, 0, 0, 0, 0, 0, 0, 0, 0, 0, 0, 0, 0, 0, 0, 0, 1, 1, 0,\n",
              "        0, 1, 0, 1, 0, 1, 0, 0, 0, 0, 0, 0, 1, 0, 1, 0, 0, 0, 0, 0, 0, 0,\n",
              "        0, 0, 0, 0, 0, 1, 0, 1, 0, 0, 0, 0, 0, 1, 0, 0, 0, 0, 0, 0, 0, 2,\n",
              "        0],\n",
              "       [0, 0, 0, 0, 0, 0, 0, 0, 0, 0, 1, 0, 0, 0, 0, 0, 1, 0, 0, 0, 0, 0,\n",
              "        1, 0, 0, 0, 0, 0, 0, 0, 0, 0, 0, 0, 0, 0, 0, 0, 0, 0, 0, 0, 0, 0,\n",
              "        0, 0, 0, 0, 0, 0, 0, 0, 0, 0, 0, 0, 0, 0, 0, 0, 1, 0, 0, 0, 0, 0,\n",
              "        0, 0, 0, 0, 1, 0, 0, 0, 0, 0, 0, 0, 0, 0, 0, 0, 0, 0, 0, 0, 0, 0,\n",
              "        0, 0, 0, 0, 0, 0, 1, 0, 0, 0, 0, 0, 1, 0, 0, 0, 0, 0, 1, 0, 0, 0,\n",
              "        0],\n",
              "       [1, 0, 0, 0, 0, 1, 1, 0, 1, 1, 0, 1, 0, 0, 0, 0, 0, 1, 0, 0, 1, 0,\n",
              "        0, 0, 0, 0, 2, 0, 0, 0, 0, 1, 1, 1, 0, 0, 0, 1, 1, 1, 0, 2, 1, 0,\n",
              "        0, 1, 0, 0, 1, 0, 1, 0, 0, 1, 0, 1, 1, 0, 0, 0, 0, 1, 1, 0, 0, 1,\n",
              "        1, 0, 1, 0, 0, 1, 1, 0, 1, 1, 0, 1, 0, 0, 0, 0, 0, 0, 0, 0, 0, 0,\n",
              "        0, 0, 0, 0, 1, 0, 0, 0, 1, 0, 1, 0, 0, 0, 0, 0, 0, 0, 1, 1, 0, 0,\n",
              "        0],\n",
              "       [0, 0, 0, 0, 0, 0, 0, 0, 0, 0, 0, 0, 0, 0, 1, 0, 0, 0, 0, 0, 0, 0,\n",
              "        0, 0, 0, 0, 0, 0, 0, 1, 0, 0, 0, 0, 0, 0, 0, 0, 0, 0, 0, 0, 0, 1,\n",
              "        0, 0, 0, 0, 0, 0, 0, 0, 0, 0, 0, 0, 0, 0, 0, 2, 0, 0, 0, 0, 0, 0,\n",
              "        0, 0, 0, 0, 0, 0, 0, 0, 0, 0, 1, 0, 0, 0, 0, 1, 0, 0, 1, 0, 1, 0,\n",
              "        0, 0, 1, 0, 0, 0, 0, 0, 0, 0, 0, 0, 0, 0, 1, 0, 1, 0, 0, 0, 0, 0,\n",
              "        0],\n",
              "       [0, 0, 0, 1, 0, 0, 0, 0, 0, 0, 0, 0, 0, 0, 0, 0, 0, 0, 0, 0, 0, 1,\n",
              "        0, 0, 0, 0, 0, 0, 0, 0, 0, 0, 0, 0, 1, 1, 0, 0, 0, 0, 0, 0, 1, 0,\n",
              "        0, 0, 0, 0, 0, 1, 0, 1, 0, 0, 0, 0, 0, 1, 0, 1, 0, 0, 0, 0, 0, 0,\n",
              "        0, 0, 0, 0, 0, 0, 0, 0, 0, 0, 1, 0, 0, 0, 0, 1, 1, 0, 0, 0, 0, 0,\n",
              "        0, 0, 0, 0, 0, 0, 0, 0, 0, 1, 0, 0, 0, 0, 0, 0, 0, 0, 0, 0, 0, 0,\n",
              "        0],\n",
              "       [0, 0, 0, 0, 0, 0, 0, 0, 0, 0, 0, 0, 0, 0, 0, 0, 0, 0, 0, 0, 0, 0,\n",
              "        0, 0, 0, 0, 0, 0, 0, 0, 0, 0, 0, 0, 0, 0, 0, 0, 0, 0, 1, 0, 0, 1,\n",
              "        0, 0, 0, 0, 0, 0, 0, 0, 0, 0, 0, 0, 0, 0, 0, 0, 0, 1, 0, 0, 0, 0,\n",
              "        0, 0, 0, 0, 0, 0, 0, 1, 0, 0, 0, 0, 0, 0, 0, 0, 0, 1, 0, 0, 0, 1,\n",
              "        1, 0, 0, 0, 0, 0, 0, 0, 0, 0, 0, 0, 0, 0, 0, 1, 0, 0, 0, 0, 1, 0,\n",
              "        0]])"
            ]
          },
          "metadata": {
            "tags": []
          },
          "execution_count": 64
        }
      ]
    },
    {
      "cell_type": "code",
      "metadata": {
        "id": "IQR95iWxt35O",
        "colab_type": "code",
        "colab": {}
      },
      "source": [
        "# The problem with bag of words model is that each word is given the same significance and that was not helpful "
      ],
      "execution_count": null,
      "outputs": []
    },
    {
      "cell_type": "markdown",
      "metadata": {
        "id": "2Ai4_nqLgb3d",
        "colab_type": "text"
      },
      "source": [
        "#TF/IDF MODEL\n",
        "In TF-IDF model we multiply Term frequency with Inverse Document frequency.\n",
        "\n",
        "Term frequency = No of repetition of words in sentence / Total no of words in that sentence\n",
        "\n",
        "Inverse Document Frequency = log(Total number of sentences/ Total number each words present in whole paragraph)\n",
        "\n",
        "\n",
        "And then we multiply Term frequency and Inverse Document Frequency"
      ]
    },
    {
      "cell_type": "code",
      "metadata": {
        "id": "J--kbtH5gjvA",
        "colab_type": "code",
        "colab": {}
      },
      "source": [
        "from sklearn.feature_extraction.text import TfidfVectorizer\n",
        "cv = TfidfVectorizer()\n",
        "x = cv.fit_transform(corpus).toarray()"
      ],
      "execution_count": null,
      "outputs": []
    },
    {
      "cell_type": "code",
      "metadata": {
        "id": "WScMOZRshFPa",
        "colab_type": "code",
        "colab": {
          "base_uri": "https://localhost:8080/",
          "height": 1000
        },
        "outputId": "1c172bf1-8ea3-48da-9e99-cb74db4f93f6"
      },
      "source": [
        "x"
      ],
      "execution_count": null,
      "outputs": [
        {
          "output_type": "execute_result",
          "data": {
            "text/plain": [
              "array([[0.        , 0.        , 0.        , 0.        , 0.        ,\n",
              "        0.        , 0.        , 0.        , 0.        , 0.        ,\n",
              "        0.        , 0.        , 0.        , 0.        , 0.        ,\n",
              "        0.        , 0.        , 0.        , 0.        , 0.        ,\n",
              "        0.        , 0.        , 0.        , 0.35997046, 0.        ,\n",
              "        0.        , 0.        , 0.        , 0.        , 0.        ,\n",
              "        0.        , 0.        , 0.        , 0.        , 0.        ,\n",
              "        0.        , 0.        , 0.        , 0.35997046, 0.        ,\n",
              "        0.        , 0.        , 0.        , 0.        , 0.        ,\n",
              "        0.        , 0.        , 0.        , 0.        , 0.        ,\n",
              "        0.        , 0.        , 0.        , 0.        , 0.42619427,\n",
              "        0.        , 0.        , 0.        , 0.42619427, 0.31298393,\n",
              "        0.        , 0.        , 0.        , 0.        , 0.        ,\n",
              "        0.        , 0.        , 0.        , 0.        , 0.        ,\n",
              "        0.        , 0.31298393, 0.        , 0.        , 0.        ,\n",
              "        0.        , 0.        , 0.        , 0.        , 0.        ,\n",
              "        0.        , 0.        , 0.        , 0.        , 0.        ,\n",
              "        0.        , 0.        , 0.        , 0.        , 0.        ,\n",
              "        0.        , 0.        , 0.        , 0.        , 0.        ,\n",
              "        0.        , 0.        , 0.        , 0.        , 0.        ,\n",
              "        0.        , 0.        , 0.        , 0.        , 0.        ,\n",
              "        0.42619427, 0.        , 0.        , 0.        , 0.        ,\n",
              "        0.        ],\n",
              "       [0.        , 0.27325258, 0.        , 0.        , 0.        ,\n",
              "        0.        , 0.        , 0.        , 0.        , 0.        ,\n",
              "        0.        , 0.        , 0.        , 0.27325258, 0.        ,\n",
              "        0.        , 0.        , 0.        , 0.        , 0.        ,\n",
              "        0.        , 0.        , 0.        , 0.46158696, 0.        ,\n",
              "        0.27325258, 0.20066827, 0.        , 0.        , 0.        ,\n",
              "        0.27325258, 0.        , 0.        , 0.        , 0.        ,\n",
              "        0.        , 0.        , 0.        , 0.        , 0.        ,\n",
              "        0.        , 0.        , 0.        , 0.        , 0.27325258,\n",
              "        0.        , 0.        , 0.        , 0.        , 0.        ,\n",
              "        0.        , 0.        , 0.27325258, 0.        , 0.        ,\n",
              "        0.        , 0.        , 0.        , 0.        , 0.        ,\n",
              "        0.        , 0.        , 0.        , 0.        , 0.        ,\n",
              "        0.        , 0.        , 0.        , 0.        , 0.        ,\n",
              "        0.        , 0.        , 0.        , 0.        , 0.        ,\n",
              "        0.        , 0.        , 0.        , 0.        , 0.27325258,\n",
              "        0.        , 0.        , 0.        , 0.        , 0.        ,\n",
              "        0.27325258, 0.        , 0.        , 0.        , 0.        ,\n",
              "        0.        , 0.27325258, 0.        , 0.        , 0.        ,\n",
              "        0.        , 0.        , 0.        , 0.        , 0.27325258,\n",
              "        0.        , 0.        , 0.        , 0.        , 0.        ,\n",
              "        0.        , 0.        , 0.        , 0.        , 0.        ,\n",
              "        0.        ],\n",
              "       [0.        , 0.        , 0.        , 0.        , 0.        ,\n",
              "        0.        , 0.        , 0.        , 0.        , 0.        ,\n",
              "        0.        , 0.        , 0.        , 0.        , 0.        ,\n",
              "        0.30551802, 0.        , 0.        , 0.        , 0.        ,\n",
              "        0.        , 0.        , 0.        , 0.        , 0.        ,\n",
              "        0.        , 0.        , 0.        , 0.30551802, 0.        ,\n",
              "        0.        , 0.        , 0.        , 0.        , 0.        ,\n",
              "        0.        , 0.61103603, 0.        , 0.        , 0.        ,\n",
              "        0.        , 0.        , 0.        , 0.        , 0.        ,\n",
              "        0.        , 0.30551802, 0.30551802, 0.        , 0.        ,\n",
              "        0.        , 0.        , 0.        , 0.        , 0.        ,\n",
              "        0.        , 0.        , 0.        , 0.        , 0.        ,\n",
              "        0.        , 0.        , 0.        , 0.        , 0.        ,\n",
              "        0.        , 0.        , 0.        , 0.        , 0.        ,\n",
              "        0.25804538, 0.        , 0.        , 0.        , 0.        ,\n",
              "        0.        , 0.        , 0.        , 0.        , 0.        ,\n",
              "        0.        , 0.        , 0.        , 0.        , 0.        ,\n",
              "        0.        , 0.        , 0.        , 0.        , 0.30551802,\n",
              "        0.        , 0.        , 0.        , 0.        , 0.        ,\n",
              "        0.        , 0.        , 0.        , 0.        , 0.        ,\n",
              "        0.        , 0.        , 0.        , 0.        , 0.        ,\n",
              "        0.        , 0.        , 0.        , 0.        , 0.        ,\n",
              "        0.30551802],\n",
              "       [0.15409045, 0.        , 0.18243848, 0.        , 0.18243848,\n",
              "        0.15409045, 0.        , 0.36487697, 0.        , 0.        ,\n",
              "        0.        , 0.        , 0.18243848, 0.        , 0.        ,\n",
              "        0.        , 0.        , 0.        , 0.18243848, 0.18243848,\n",
              "        0.        , 0.        , 0.        , 0.        , 0.36487697,\n",
              "        0.        , 0.1339772 , 0.18243848, 0.        , 0.        ,\n",
              "        0.        , 0.        , 0.        , 0.        , 0.        ,\n",
              "        0.        , 0.        , 0.        , 0.        , 0.        ,\n",
              "        0.        , 0.        , 0.1339772 , 0.        , 0.        ,\n",
              "        0.        , 0.        , 0.        , 0.        , 0.        ,\n",
              "        0.        , 0.        , 0.        , 0.        , 0.        ,\n",
              "        0.        , 0.        , 0.        , 0.        , 0.        ,\n",
              "        0.        , 0.        , 0.        , 0.18243848, 0.18243848,\n",
              "        0.        , 0.        , 0.18243848, 0.        , 0.18243848,\n",
              "        0.        , 0.1339772 , 0.        , 0.        , 0.        ,\n",
              "        0.        , 0.        , 0.        , 0.18243848, 0.        ,\n",
              "        0.18243848, 0.        , 0.        , 0.        , 0.        ,\n",
              "        0.        , 0.        , 0.        , 0.        , 0.        ,\n",
              "        0.        , 0.        , 0.        , 0.18243848, 0.        ,\n",
              "        0.18243848, 0.        , 0.        , 0.        , 0.        ,\n",
              "        0.        , 0.18243848, 0.        , 0.        , 0.        ,\n",
              "        0.        , 0.        , 0.        , 0.        , 0.36487697,\n",
              "        0.        ],\n",
              "       [0.        , 0.        , 0.        , 0.        , 0.        ,\n",
              "        0.        , 0.        , 0.        , 0.        , 0.        ,\n",
              "        0.36694463, 0.        , 0.        , 0.        , 0.        ,\n",
              "        0.        , 0.36694463, 0.        , 0.        , 0.        ,\n",
              "        0.        , 0.        , 0.36694463, 0.        , 0.        ,\n",
              "        0.        , 0.        , 0.        , 0.        , 0.        ,\n",
              "        0.        , 0.        , 0.        , 0.        , 0.        ,\n",
              "        0.        , 0.        , 0.        , 0.        , 0.        ,\n",
              "        0.        , 0.        , 0.        , 0.        , 0.        ,\n",
              "        0.        , 0.        , 0.        , 0.        , 0.        ,\n",
              "        0.        , 0.        , 0.        , 0.        , 0.        ,\n",
              "        0.        , 0.        , 0.        , 0.        , 0.        ,\n",
              "        0.36694463, 0.        , 0.        , 0.        , 0.        ,\n",
              "        0.        , 0.        , 0.        , 0.        , 0.        ,\n",
              "        0.30992728, 0.        , 0.        , 0.        , 0.        ,\n",
              "        0.        , 0.        , 0.        , 0.        , 0.        ,\n",
              "        0.        , 0.        , 0.        , 0.        , 0.        ,\n",
              "        0.        , 0.        , 0.        , 0.        , 0.        ,\n",
              "        0.        , 0.        , 0.        , 0.        , 0.36694463,\n",
              "        0.        , 0.        , 0.        , 0.        , 0.        ,\n",
              "        0.36694463, 0.        , 0.        , 0.        , 0.        ,\n",
              "        0.        , 0.30992728, 0.        , 0.        , 0.        ,\n",
              "        0.        ],\n",
              "       [0.13387614, 0.        , 0.        , 0.        , 0.        ,\n",
              "        0.13387614, 0.15850534, 0.        , 0.15850534, 0.15850534,\n",
              "        0.        , 0.15850534, 0.        , 0.        , 0.        ,\n",
              "        0.        , 0.        , 0.15850534, 0.        , 0.        ,\n",
              "        0.15850534, 0.        , 0.        , 0.        , 0.        ,\n",
              "        0.        , 0.23280287, 0.        , 0.        , 0.        ,\n",
              "        0.        , 0.15850534, 0.15850534, 0.15850534, 0.        ,\n",
              "        0.        , 0.        , 0.15850534, 0.13387614, 0.15850534,\n",
              "        0.        , 0.31701068, 0.11640144, 0.        , 0.        ,\n",
              "        0.15850534, 0.        , 0.        , 0.15850534, 0.        ,\n",
              "        0.15850534, 0.        , 0.        , 0.15850534, 0.        ,\n",
              "        0.15850534, 0.15850534, 0.        , 0.        , 0.        ,\n",
              "        0.        , 0.13387614, 0.15850534, 0.        , 0.        ,\n",
              "        0.15850534, 0.15850534, 0.        , 0.15850534, 0.        ,\n",
              "        0.        , 0.11640144, 0.15850534, 0.        , 0.15850534,\n",
              "        0.15850534, 0.        , 0.15850534, 0.        , 0.        ,\n",
              "        0.        , 0.        , 0.        , 0.        , 0.        ,\n",
              "        0.        , 0.        , 0.        , 0.        , 0.        ,\n",
              "        0.        , 0.        , 0.15850534, 0.        , 0.        ,\n",
              "        0.        , 0.15850534, 0.        , 0.15850534, 0.        ,\n",
              "        0.        , 0.        , 0.        , 0.        , 0.        ,\n",
              "        0.        , 0.13387614, 0.15850534, 0.        , 0.        ,\n",
              "        0.        ],\n",
              "       [0.        , 0.        , 0.        , 0.        , 0.        ,\n",
              "        0.        , 0.        , 0.        , 0.        , 0.        ,\n",
              "        0.        , 0.        , 0.        , 0.        , 0.29751734,\n",
              "        0.        , 0.        , 0.        , 0.        , 0.        ,\n",
              "        0.        , 0.        , 0.        , 0.        , 0.        ,\n",
              "        0.        , 0.        , 0.        , 0.        , 0.29751734,\n",
              "        0.        , 0.        , 0.        , 0.        , 0.        ,\n",
              "        0.        , 0.        , 0.        , 0.        , 0.        ,\n",
              "        0.        , 0.        , 0.        , 0.25128788, 0.        ,\n",
              "        0.        , 0.        , 0.        , 0.        , 0.        ,\n",
              "        0.        , 0.        , 0.        , 0.        , 0.        ,\n",
              "        0.        , 0.        , 0.        , 0.        , 0.43697511,\n",
              "        0.        , 0.        , 0.        , 0.        , 0.        ,\n",
              "        0.        , 0.        , 0.        , 0.        , 0.        ,\n",
              "        0.        , 0.        , 0.        , 0.        , 0.        ,\n",
              "        0.        , 0.25128788, 0.        , 0.        , 0.        ,\n",
              "        0.        , 0.25128788, 0.        , 0.        , 0.29751734,\n",
              "        0.        , 0.29751734, 0.        , 0.        , 0.        ,\n",
              "        0.29751734, 0.        , 0.        , 0.        , 0.        ,\n",
              "        0.        , 0.        , 0.        , 0.        , 0.        ,\n",
              "        0.        , 0.        , 0.29751734, 0.        , 0.29751734,\n",
              "        0.        , 0.        , 0.        , 0.        , 0.        ,\n",
              "        0.        ],\n",
              "       [0.        , 0.        , 0.        , 0.29481537, 0.        ,\n",
              "        0.        , 0.        , 0.        , 0.        , 0.        ,\n",
              "        0.        , 0.        , 0.        , 0.        , 0.        ,\n",
              "        0.        , 0.        , 0.        , 0.        , 0.        ,\n",
              "        0.        , 0.29481537, 0.        , 0.        , 0.        ,\n",
              "        0.        , 0.        , 0.        , 0.        , 0.        ,\n",
              "        0.        , 0.        , 0.        , 0.        , 0.29481537,\n",
              "        0.29481537, 0.        , 0.        , 0.        , 0.        ,\n",
              "        0.        , 0.        , 0.21650331, 0.        , 0.        ,\n",
              "        0.        , 0.        , 0.        , 0.        , 0.29481537,\n",
              "        0.        , 0.29481537, 0.        , 0.        , 0.        ,\n",
              "        0.        , 0.        , 0.29481537, 0.        , 0.21650331,\n",
              "        0.        , 0.        , 0.        , 0.        , 0.        ,\n",
              "        0.        , 0.        , 0.        , 0.        , 0.        ,\n",
              "        0.        , 0.        , 0.        , 0.        , 0.        ,\n",
              "        0.        , 0.24900575, 0.        , 0.        , 0.        ,\n",
              "        0.        , 0.24900575, 0.29481537, 0.        , 0.        ,\n",
              "        0.        , 0.        , 0.        , 0.        , 0.        ,\n",
              "        0.        , 0.        , 0.        , 0.        , 0.        ,\n",
              "        0.        , 0.        , 0.29481537, 0.        , 0.        ,\n",
              "        0.        , 0.        , 0.        , 0.        , 0.        ,\n",
              "        0.        , 0.        , 0.        , 0.        , 0.        ,\n",
              "        0.        ],\n",
              "       [0.        , 0.        , 0.        , 0.        , 0.        ,\n",
              "        0.        , 0.        , 0.        , 0.        , 0.        ,\n",
              "        0.        , 0.        , 0.        , 0.        , 0.        ,\n",
              "        0.        , 0.        , 0.        , 0.        , 0.        ,\n",
              "        0.        , 0.        , 0.        , 0.        , 0.        ,\n",
              "        0.        , 0.        , 0.        , 0.        , 0.        ,\n",
              "        0.        , 0.        , 0.        , 0.        , 0.        ,\n",
              "        0.        , 0.        , 0.        , 0.        , 0.        ,\n",
              "        0.34448466, 0.        , 0.        , 0.29095723, 0.        ,\n",
              "        0.        , 0.        , 0.        , 0.        , 0.        ,\n",
              "        0.        , 0.        , 0.        , 0.        , 0.        ,\n",
              "        0.        , 0.        , 0.        , 0.        , 0.        ,\n",
              "        0.        , 0.29095723, 0.        , 0.        , 0.        ,\n",
              "        0.        , 0.        , 0.        , 0.        , 0.        ,\n",
              "        0.        , 0.        , 0.        , 0.34448466, 0.        ,\n",
              "        0.        , 0.        , 0.        , 0.        , 0.        ,\n",
              "        0.        , 0.        , 0.        , 0.34448466, 0.        ,\n",
              "        0.        , 0.        , 0.34448466, 0.34448466, 0.        ,\n",
              "        0.        , 0.        , 0.        , 0.        , 0.        ,\n",
              "        0.        , 0.        , 0.        , 0.        , 0.        ,\n",
              "        0.        , 0.        , 0.        , 0.34448466, 0.        ,\n",
              "        0.        , 0.        , 0.        , 0.34448466, 0.        ,\n",
              "        0.        ]])"
            ]
          },
          "metadata": {
            "tags": []
          },
          "execution_count": 67
        }
      ]
    },
    {
      "cell_type": "code",
      "metadata": {
        "id": "ceVjlk_3hLF7",
        "colab_type": "code",
        "colab": {}
      },
      "source": [
        ""
      ],
      "execution_count": null,
      "outputs": []
    }
  ]
}